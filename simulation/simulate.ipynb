{
 "cells": [
  {
   "cell_type": "markdown",
   "metadata": {},
   "source": [
    "# Generate simulated data\n",
    "This notebook simulates data from cognive computaional models: 4-P RL, HRL, and GLM-HMM"
   ]
  },
  {
   "cell_type": "code",
   "execution_count": 1,
   "metadata": {
    "id": "qUmSC2gap4oL"
   },
   "outputs": [],
   "source": [
    "import pandas as pd\n",
    "import tqdm\n",
    "import random\n",
    "\n",
    "from prl.simulate_4prl import simulate_4prl\n",
    "from hrl.simulate_hrl import simulate_hrl"
   ]
  },
  {
   "cell_type": "markdown",
   "metadata": {},
   "source": [
    "# 4-P RL Simulation\n",
    "\n",
    "Simulate data from a 4-parameter reinforcement learning model on two-armed bandit task\n",
    " "
   ]
  },
  {
   "cell_type": "code",
   "execution_count": 2,
   "metadata": {
    "colab": {
     "base_uri": "https://localhost:8080/"
    },
    "id": "uWoGvfC9p-DV",
    "outputId": "f98a27e1-00d9-4a19-d021-fd65a25ff0db"
   },
   "outputs": [
    {
     "name": "stderr",
     "output_type": "stream",
     "text": [
      "100%|██████████| 100/100 [00:01<00:00, 54.83it/s]\n"
     ]
    },
    {
     "data": {
      "text/html": [
       "<div>\n",
       "<style scoped>\n",
       "    .dataframe tbody tr th:only-of-type {\n",
       "        vertical-align: middle;\n",
       "    }\n",
       "\n",
       "    .dataframe tbody tr th {\n",
       "        vertical-align: top;\n",
       "    }\n",
       "\n",
       "    .dataframe thead th {\n",
       "        text-align: right;\n",
       "    }\n",
       "</style>\n",
       "<table border=\"1\" class=\"dataframe\">\n",
       "  <thead>\n",
       "    <tr style=\"text-align: right;\">\n",
       "      <th></th>\n",
       "      <th>agentid</th>\n",
       "      <th>actions</th>\n",
       "      <th>correct_actions</th>\n",
       "      <th>rewards</th>\n",
       "      <th>isswitch</th>\n",
       "      <th>iscorrectaction</th>\n",
       "      <th>trials</th>\n",
       "      <th>rpe_history</th>\n",
       "      <th>unchosen_rpe_history</th>\n",
       "      <th>alpha</th>\n",
       "      <th>beta</th>\n",
       "      <th>neg_alpha</th>\n",
       "      <th>stickiness</th>\n",
       "    </tr>\n",
       "  </thead>\n",
       "  <tbody>\n",
       "    <tr>\n",
       "      <th>0</th>\n",
       "      <td>0</td>\n",
       "      <td>1</td>\n",
       "      <td>0</td>\n",
       "      <td>0</td>\n",
       "      <td>0</td>\n",
       "      <td>0</td>\n",
       "      <td>0</td>\n",
       "      <td>-0.500000</td>\n",
       "      <td>0.500000</td>\n",
       "      <td>0.642733</td>\n",
       "      <td>2.841003</td>\n",
       "      <td>0.938852</td>\n",
       "      <td>0.402758</td>\n",
       "    </tr>\n",
       "    <tr>\n",
       "      <th>1</th>\n",
       "      <td>0</td>\n",
       "      <td>0</td>\n",
       "      <td>0</td>\n",
       "      <td>0</td>\n",
       "      <td>0</td>\n",
       "      <td>1</td>\n",
       "      <td>1</td>\n",
       "      <td>-0.969426</td>\n",
       "      <td>0.969426</td>\n",
       "      <td>0.642733</td>\n",
       "      <td>2.841003</td>\n",
       "      <td>0.938852</td>\n",
       "      <td>0.402758</td>\n",
       "    </tr>\n",
       "    <tr>\n",
       "      <th>2</th>\n",
       "      <td>0</td>\n",
       "      <td>0</td>\n",
       "      <td>0</td>\n",
       "      <td>1</td>\n",
       "      <td>0</td>\n",
       "      <td>1</td>\n",
       "      <td>2</td>\n",
       "      <td>0.940722</td>\n",
       "      <td>-0.940722</td>\n",
       "      <td>0.642733</td>\n",
       "      <td>2.841003</td>\n",
       "      <td>0.938852</td>\n",
       "      <td>0.402758</td>\n",
       "    </tr>\n",
       "  </tbody>\n",
       "</table>\n",
       "</div>"
      ],
      "text/plain": [
       "   agentid  actions  correct_actions  rewards  isswitch  iscorrectaction  \\\n",
       "0        0        1                0        0         0                0   \n",
       "1        0        0                0        0         0                1   \n",
       "2        0        0                0        1         0                1   \n",
       "\n",
       "   trials  rpe_history  unchosen_rpe_history     alpha      beta  neg_alpha  \\\n",
       "0       0    -0.500000              0.500000  0.642733  2.841003   0.938852   \n",
       "1       1    -0.969426              0.969426  0.642733  2.841003   0.938852   \n",
       "2       2     0.940722             -0.940722  0.642733  2.841003   0.938852   \n",
       "\n",
       "   stickiness  \n",
       "0    0.402758  \n",
       "1    0.402758  \n",
       "2    0.402758  "
      ]
     },
     "execution_count": 2,
     "metadata": {},
     "output_type": "execute_result"
    }
   ],
   "source": [
    "N_AGENTS = 100\n",
    "num_trials = 720\n",
    "\n",
    "data_list = []\n",
    "for a in tqdm.tqdm(range(N_AGENTS)):\n",
    "    rand_beta = random.uniform(1e-4, 10)\n",
    "    rand_alpha = random.uniform(1e-4, 1)\n",
    "    rand_neg_alpha = random.uniform(1e-4, 1)\n",
    "    rand_stickiness = random.uniform(0, 1)\n",
    "\n",
    "    parameters = [rand_beta, rand_alpha, rand_neg_alpha, rand_stickiness]\n",
    "    data = simulate_4prl(parameters, num_trials, 0.8, 15, 2, a)\n",
    "    data_list.append(data)\n",
    "\n",
    "data_df = pd.concat(data_list)\n",
    "data_df.head(3)"
   ]
  },
  {
   "cell_type": "code",
   "execution_count": 3,
   "metadata": {},
   "outputs": [],
   "source": [
    "# Save the data\n",
    "data_df.to_csv(f\"../data/4prl/{N_AGENTS}a_{num_trials}t.csv\")"
   ]
  },
  {
   "cell_type": "code",
   "execution_count": null,
   "metadata": {},
   "outputs": [],
   "source": []
  },
  {
   "cell_type": "markdown",
   "metadata": {},
   "source": [
    "# HRL simulation\n",
    "\n",
    "Simulate a hierarchical reinforcement learning model (HRL) with a dynamic decision making task."
   ]
  },
  {
   "cell_type": "code",
   "execution_count": 4,
   "metadata": {},
   "outputs": [
    {
     "name": "stderr",
     "output_type": "stream",
     "text": [
      "100%|██████████| 100/100 [00:02<00:00, 42.52it/s]\n"
     ]
    },
    {
     "data": {
      "text/html": [
       "<div>\n",
       "<style scoped>\n",
       "    .dataframe tbody tr th:only-of-type {\n",
       "        vertical-align: middle;\n",
       "    }\n",
       "\n",
       "    .dataframe tbody tr th {\n",
       "        vertical-align: top;\n",
       "    }\n",
       "\n",
       "    .dataframe thead th {\n",
       "        text-align: right;\n",
       "    }\n",
       "</style>\n",
       "<table border=\"1\" class=\"dataframe\">\n",
       "  <thead>\n",
       "    <tr style=\"text-align: right;\">\n",
       "      <th></th>\n",
       "      <th>agentid</th>\n",
       "      <th>correctcue</th>\n",
       "      <th>rewards</th>\n",
       "      <th>isswitch</th>\n",
       "      <th>iscorrectcue</th>\n",
       "      <th>trials</th>\n",
       "      <th>rpe_history</th>\n",
       "      <th>chosen_qv</th>\n",
       "      <th>chosenside</th>\n",
       "      <th>chosencue</th>\n",
       "      <th>correctruleiteration</th>\n",
       "      <th>alpha</th>\n",
       "      <th>stickiness</th>\n",
       "      <th>allstims0</th>\n",
       "      <th>allstims1</th>\n",
       "      <th>allstims2</th>\n",
       "      <th>beta</th>\n",
       "      <th>qv0</th>\n",
       "      <th>qv1</th>\n",
       "      <th>qv2</th>\n",
       "    </tr>\n",
       "  </thead>\n",
       "  <tbody>\n",
       "    <tr>\n",
       "      <th>0</th>\n",
       "      <td>0</td>\n",
       "      <td>1</td>\n",
       "      <td>0</td>\n",
       "      <td>0</td>\n",
       "      <td>0</td>\n",
       "      <td>0</td>\n",
       "      <td>-0.333333</td>\n",
       "      <td>0.333333</td>\n",
       "      <td>0</td>\n",
       "      <td>2</td>\n",
       "      <td>0</td>\n",
       "      <td>0.480486</td>\n",
       "      <td>0</td>\n",
       "      <td>0</td>\n",
       "      <td>1</td>\n",
       "      <td>0</td>\n",
       "      <td>9.489915</td>\n",
       "      <td>0.333333</td>\n",
       "      <td>0.333333</td>\n",
       "      <td>0.333333</td>\n",
       "    </tr>\n",
       "    <tr>\n",
       "      <th>1</th>\n",
       "      <td>0</td>\n",
       "      <td>1</td>\n",
       "      <td>0</td>\n",
       "      <td>0</td>\n",
       "      <td>0</td>\n",
       "      <td>1</td>\n",
       "      <td>-0.653657</td>\n",
       "      <td>0.653657</td>\n",
       "      <td>0</td>\n",
       "      <td>0</td>\n",
       "      <td>1</td>\n",
       "      <td>0.480486</td>\n",
       "      <td>0</td>\n",
       "      <td>0</td>\n",
       "      <td>1</td>\n",
       "      <td>0</td>\n",
       "      <td>9.489915</td>\n",
       "      <td>0.653657</td>\n",
       "      <td>0.653657</td>\n",
       "      <td>0.173171</td>\n",
       "    </tr>\n",
       "    <tr>\n",
       "      <th>2</th>\n",
       "      <td>0</td>\n",
       "      <td>1</td>\n",
       "      <td>1</td>\n",
       "      <td>0</td>\n",
       "      <td>1</td>\n",
       "      <td>2</td>\n",
       "      <td>0.179930</td>\n",
       "      <td>0.820070</td>\n",
       "      <td>1</td>\n",
       "      <td>1</td>\n",
       "      <td>2</td>\n",
       "      <td>0.480486</td>\n",
       "      <td>0</td>\n",
       "      <td>0</td>\n",
       "      <td>1</td>\n",
       "      <td>1</td>\n",
       "      <td>9.489915</td>\n",
       "      <td>0.339584</td>\n",
       "      <td>0.820070</td>\n",
       "      <td>0.570451</td>\n",
       "    </tr>\n",
       "  </tbody>\n",
       "</table>\n",
       "</div>"
      ],
      "text/plain": [
       "   agentid  correctcue  rewards  isswitch  iscorrectcue  trials  rpe_history  \\\n",
       "0        0           1        0         0             0       0    -0.333333   \n",
       "1        0           1        0         0             0       1    -0.653657   \n",
       "2        0           1        1         0             1       2     0.179930   \n",
       "\n",
       "   chosen_qv  chosenside  chosencue  correctruleiteration     alpha  \\\n",
       "0   0.333333           0          2                     0  0.480486   \n",
       "1   0.653657           0          0                     1  0.480486   \n",
       "2   0.820070           1          1                     2  0.480486   \n",
       "\n",
       "   stickiness  allstims0  allstims1  allstims2      beta       qv0       qv1  \\\n",
       "0           0          0          1          0  9.489915  0.333333  0.333333   \n",
       "1           0          0          1          0  9.489915  0.653657  0.653657   \n",
       "2           0          0          1          1  9.489915  0.339584  0.820070   \n",
       "\n",
       "        qv2  \n",
       "0  0.333333  \n",
       "1  0.173171  \n",
       "2  0.570451  "
      ]
     },
     "execution_count": 4,
     "metadata": {},
     "output_type": "execute_result"
    }
   ],
   "source": [
    "N_AGENTS = 100\n",
    "num_trials = 720\n",
    "\n",
    "data_list = []\n",
    "for a in tqdm.tqdm(range(N_AGENTS)):\n",
    "    # simulate N_AGENTS agents with randomly sampled alphas and betas\n",
    "    rand_alpha = random.uniform(0.4, 0.7)\n",
    "    rand_beta = random.uniform(1, 10)\n",
    "    # Fixed stickiness to 0\n",
    "    parameters = [rand_beta, rand_alpha, 0, 0]\n",
    "    data = simulate_hrl(parameters, num_trials, [0.1, 0.9], 0.05, 3, a)\n",
    "    data_list.append(data)\n",
    "\n",
    "data_df = pd.concat(data_list)\n",
    "data_df.head(3)"
   ]
  },
  {
   "cell_type": "code",
   "execution_count": 5,
   "metadata": {},
   "outputs": [],
   "source": [
    "# Save the data\n",
    "data_df.to_csv(f\"../data/hrl/{N_AGENTS}a_{num_trials}t.csv\")"
   ]
  },
  {
   "cell_type": "markdown",
   "metadata": {},
   "source": [
    "# GLM-HMM simulation\n",
    "Please install `ssm` package before running the simulation code here."
   ]
  },
  {
   "cell_type": "code",
   "execution_count": 8,
   "metadata": {},
   "outputs": [
    {
     "name": "stdout",
     "output_type": "stream",
     "text": [
      "Requirement already satisfied: cython in c:\\users\\ijiny\\anaconda3\\envs\\lasenet311\\lib\\site-packages (3.1.3)\n",
      "Obtaining file:///C:/Users/ijiny/Desktop/lasenet/simulation\n"
     ]
    },
    {
     "name": "stderr",
     "output_type": "stream",
     "text": [
      "ERROR: file:///C:/Users/ijiny/Desktop/lasenet/simulation does not appear to be a Python project: neither 'setup.py' nor 'pyproject.toml' found.\n"
     ]
    }
   ],
   "source": [
    "import sys\n",
    "from glmhmm.simulate_glmhmm import simulate_glmhmm\n",
    "\n",
    "!{sys.executable} -m pip install cython\n",
    "!{sys.executable} -m pip install -e ."
   ]
  },
  {
   "cell_type": "code",
   "execution_count": 9,
   "metadata": {},
   "outputs": [
    {
     "data": {
      "text/html": [
       "<div>\n",
       "<style scoped>\n",
       "    .dataframe tbody tr th:only-of-type {\n",
       "        vertical-align: middle;\n",
       "    }\n",
       "\n",
       "    .dataframe tbody tr th {\n",
       "        vertical-align: top;\n",
       "    }\n",
       "\n",
       "    .dataframe thead th {\n",
       "        text-align: right;\n",
       "    }\n",
       "</style>\n",
       "<table border=\"1\" class=\"dataframe\">\n",
       "  <thead>\n",
       "    <tr style=\"text-align: right;\">\n",
       "      <th></th>\n",
       "      <th>agentid</th>\n",
       "      <th>trials</th>\n",
       "      <th>which_state</th>\n",
       "      <th>actions</th>\n",
       "      <th>stim</th>\n",
       "      <th>previous_action</th>\n",
       "      <th>wsls</th>\n",
       "    </tr>\n",
       "  </thead>\n",
       "  <tbody>\n",
       "    <tr>\n",
       "      <th>0</th>\n",
       "      <td>0</td>\n",
       "      <td>0</td>\n",
       "      <td>1</td>\n",
       "      <td>0</td>\n",
       "      <td>-1.00</td>\n",
       "      <td>-1</td>\n",
       "      <td>-1</td>\n",
       "    </tr>\n",
       "    <tr>\n",
       "      <th>1</th>\n",
       "      <td>0</td>\n",
       "      <td>1</td>\n",
       "      <td>1</td>\n",
       "      <td>0</td>\n",
       "      <td>0.00</td>\n",
       "      <td>-1</td>\n",
       "      <td>-1</td>\n",
       "    </tr>\n",
       "    <tr>\n",
       "      <th>2</th>\n",
       "      <td>0</td>\n",
       "      <td>2</td>\n",
       "      <td>1</td>\n",
       "      <td>0</td>\n",
       "      <td>-0.25</td>\n",
       "      <td>-1</td>\n",
       "      <td>1</td>\n",
       "    </tr>\n",
       "  </tbody>\n",
       "</table>\n",
       "</div>"
      ],
      "text/plain": [
       "   agentid  trials  which_state  actions  stim  previous_action  wsls\n",
       "0        0       0            1        0 -1.00               -1    -1\n",
       "1        0       1            1        0  0.00               -1    -1\n",
       "2        0       2            1        0 -0.25               -1     1"
      ]
     },
     "execution_count": 9,
     "metadata": {},
     "output_type": "execute_result"
    }
   ],
   "source": [
    "N_AGENTS = 100\n",
    "num_trials = 720\n",
    "data_df = simulate_glmhmm(N_AGENTS, num_trials, num_states=3)\n",
    "data_df.head(3)"
   ]
  },
  {
   "cell_type": "code",
   "execution_count": null,
   "metadata": {},
   "outputs": [],
   "source": []
  }
 ],
 "metadata": {
  "colab": {
   "collapsed_sections": [
    "8BwLwnyxZSea",
    "y5VPhg0sBUXV"
   ],
   "provenance": [],
   "toc_visible": true
  },
  "kernelspec": {
   "display_name": "lasenet311",
   "language": "python",
   "name": "python3"
  },
  "language_info": {
   "codemirror_mode": {
    "name": "ipython",
    "version": 3
   },
   "file_extension": ".py",
   "mimetype": "text/x-python",
   "name": "python",
   "nbconvert_exporter": "python",
   "pygments_lexer": "ipython3",
   "version": "3.11.13"
  }
 },
 "nbformat": 4,
 "nbformat_minor": 0
}
