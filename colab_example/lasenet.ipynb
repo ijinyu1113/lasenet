{
  "cells": [
    {
      "cell_type": "markdown",
      "metadata": {},
      "source": [
        "# Example code for LaseNet - recover one continuous latent variable\n",
        "\n",
        "This is the colab example for LaseNet. The code only shows recovering one continuous latent variable. For more details, please refer to the README.md file."
      ]
    },
    {
      "cell_type": "code",
      "execution_count": 1,
      "metadata": {
        "colab": {
          "base_uri": "https://localhost:8080/"
        },
        "id": "j-l891N-J-0C",
        "outputId": "3b721c12-d0c3-4259-e70b-56e7bdb86408"
      },
      "outputs": [
        {
          "name": "stdout",
          "output_type": "stream",
          "text": [
            "Mounted at /content/gdrive\n"
          ]
        }
      ],
      "source": [
        "from google.colab import drive\n",
        "drive.mount('/content/gdrive')"
      ]
    },
    {
      "cell_type": "code",
      "execution_count": 2,
      "metadata": {
        "colab": {
          "base_uri": "https://localhost:8080/"
        },
        "id": "ZEsgxAu5H0gT",
        "outputId": "e9bf89f9-19a7-4d67-b7c5-a28c01b6e3dd"
      },
      "outputs": [
        {
          "name": "stdout",
          "output_type": "stream",
          "text": [
            "Cloning into 'lasenet'...\n",
            "remote: Enumerating objects: 96, done.\u001b[K\n",
            "remote: Counting objects: 100% (96/96), done.\u001b[K\n",
            "remote: Compressing objects: 100% (65/65), done.\u001b[K\n",
            "remote: Total 96 (delta 35), reused 82 (delta 21), pack-reused 0 (from 0)\u001b[K\n",
            "Receiving objects: 100% (96/96), 467.90 KiB | 3.12 MiB/s, done.\n",
            "Resolving deltas: 100% (35/35), done.\n"
          ]
        }
      ],
      "source": [
        "!rm -rf lasenet # clear up dir if any\n",
        "!git clone https://github.com/ti55987/lasenet"
      ]
    },
    {
      "cell_type": "code",
      "execution_count": 3,
      "metadata": {
        "colab": {
          "base_uri": "https://localhost:8080/"
        },
        "id": "crJL74zizlbq",
        "outputId": "bf6179bc-1750-46ac-905a-eab9788afb96"
      },
      "outputs": [
        {
          "name": "stdout",
          "output_type": "stream",
          "text": [
            "/content/lasenet\n",
            "\u001b[0m\u001b[01;34mbenchmarks\u001b[0m/      eval.ipynb  \u001b[01;34mmice_fitting\u001b[0m/   README.md    \u001b[01;34mtraining\u001b[0m/       \u001b[01;34mutils\u001b[0m/\n",
            "environment.yml  LICENSE     \u001b[01;32mpretrained.sh\u001b[0m*  \u001b[01;34msimulation\u001b[0m/  training.ipynb\n"
          ]
        }
      ],
      "source": [
        "%cd lasenet\n",
        "%ls"
      ]
    },
    {
      "cell_type": "code",
      "execution_count": 4,
      "metadata": {
        "id": "29Y2cCi4H_Wu"
      },
      "outputs": [],
      "source": [
        "import pandas as pd\n",
        "import numpy as np\n",
        "import time\n",
        "import matplotlib.pyplot as plt\n",
        "import seaborn as sns\n",
        "from sklearn.model_selection import train_test_split\n",
        "\n",
        "from tensorflow.keras.optimizers import Adam\n",
        "from keras.callbacks import EarlyStopping\n",
        "\n",
        "from utils.feature_utils import (\n",
        "    get_onehot_features,\n",
        "    get_feature_list_by_model,\n",
        "    get_latent_labels,\n",
        "    CognitiveModel,\n",
        ")\n",
        "from utils.training_utils import set_seed\n",
        "\n",
        "from training.models import create_model"
      ]
    },
    {
      "cell_type": "markdown",
      "metadata": {
        "id": "KdVu7yQ8A3Pu"
      },
      "source": [
        "# Customize for your own path, latent variable name, and features"
      ]
    },
    {
      "cell_type": "code",
      "execution_count": null,
      "metadata": {
        "id": "wcE5G51TKQp4"
      },
      "outputs": [],
      "source": [
        "DRIVE_DIR = 'CHANGE_ME' # your own google drive path\n",
        "RESULT_DIR = 'CHANGE_ME' # your google drive path to store results\n",
        "# parameter list you want to recover\n",
        "target_parameter_name = '' # Change to your parameter name\n",
        "\n",
        "# CHANGE TO YOUR OWN FEATURES\n",
        "feature_list = []#  e.g. 'actions', 'rewards', 'stimuli'\n",
        "training_data_file_path = f'{DRIVE_DIR}/CHANGE_ME.csv'\n",
        "test_data_file_path = f'{DRIVE_DIR}/CHANGE_ME.csv'"
      ]
    },
    {
      "cell_type": "markdown",
      "metadata": {
        "id": "Sf-kElodwSvs"
      },
      "source": [
        "# Process data"
      ]
    },
    {
      "cell_type": "markdown",
      "metadata": {
        "id": "lja_r6pTNFDq"
      },
      "source": [
        "## Example data - skip this if you understand the data structure"
      ]
    },
    {
      "cell_type": "code",
      "execution_count": 5,
      "metadata": {
        "colab": {
          "base_uri": "https://localhost:8080/",
          "height": 181
        },
        "id": "T7B04XHLM1TX",
        "outputId": "a2ee1f3f-78ba-45ba-e087-a5672dd41a17"
      },
      "outputs": [
        {
          "name": "stderr",
          "output_type": "stream",
          "text": [
            "100%|██████████| 10/10 [00:00<00:00, 31.79it/s]\n"
          ]
        },
        {
          "data": {
            "application/vnd.google.colaboratory.intrinsic+json": {
              "summary": "{\n  \"name\": \"example_df\",\n  \"rows\": 5000,\n  \"fields\": [\n    {\n      \"column\": \"agentid\",\n      \"properties\": {\n        \"dtype\": \"number\",\n        \"std\": 2,\n        \"min\": 0,\n        \"max\": 9,\n        \"num_unique_values\": 10,\n        \"samples\": [\n          8,\n          1,\n          5\n        ],\n        \"semantic_type\": \"\",\n        \"description\": \"\"\n      }\n    },\n    {\n      \"column\": \"actions\",\n      \"properties\": {\n        \"dtype\": \"number\",\n        \"std\": 0,\n        \"min\": 0,\n        \"max\": 1,\n        \"num_unique_values\": 2,\n        \"samples\": [\n          1,\n          0\n        ],\n        \"semantic_type\": \"\",\n        \"description\": \"\"\n      }\n    },\n    {\n      \"column\": \"correct_actions\",\n      \"properties\": {\n        \"dtype\": \"number\",\n        \"std\": 0,\n        \"min\": 0,\n        \"max\": 1,\n        \"num_unique_values\": 2,\n        \"samples\": [\n          1,\n          0\n        ],\n        \"semantic_type\": \"\",\n        \"description\": \"\"\n      }\n    },\n    {\n      \"column\": \"rewards\",\n      \"properties\": {\n        \"dtype\": \"number\",\n        \"std\": 0,\n        \"min\": 0,\n        \"max\": 1,\n        \"num_unique_values\": 2,\n        \"samples\": [\n          0,\n          1\n        ],\n        \"semantic_type\": \"\",\n        \"description\": \"\"\n      }\n    },\n    {\n      \"column\": \"isswitch\",\n      \"properties\": {\n        \"dtype\": \"number\",\n        \"std\": 0,\n        \"min\": 0,\n        \"max\": 1,\n        \"num_unique_values\": 2,\n        \"samples\": [\n          1,\n          0\n        ],\n        \"semantic_type\": \"\",\n        \"description\": \"\"\n      }\n    },\n    {\n      \"column\": \"iscorrectaction\",\n      \"properties\": {\n        \"dtype\": \"number\",\n        \"std\": 0,\n        \"min\": 0,\n        \"max\": 1,\n        \"num_unique_values\": 2,\n        \"samples\": [\n          0,\n          1\n        ],\n        \"semantic_type\": \"\",\n        \"description\": \"\"\n      }\n    },\n    {\n      \"column\": \"trials\",\n      \"properties\": {\n        \"dtype\": \"number\",\n        \"std\": 144,\n        \"min\": 0,\n        \"max\": 499,\n        \"num_unique_values\": 500,\n        \"samples\": [\n          361,\n          73\n        ],\n        \"semantic_type\": \"\",\n        \"description\": \"\"\n      }\n    },\n    {\n      \"column\": \"rpe_history\",\n      \"properties\": {\n        \"dtype\": \"number\",\n        \"std\": 0.507088582808065,\n        \"min\": -0.9999999999999487,\n        \"max\": 0.9999995639520779,\n        \"num_unique_values\": 4992,\n        \"samples\": [\n          0.00019518290431375096,\n          0.08106812279560671\n        ],\n        \"semantic_type\": \"\",\n        \"description\": \"\"\n      }\n    },\n    {\n      \"column\": \"unchosen_rpe_history\",\n      \"properties\": {\n        \"dtype\": \"number\",\n        \"std\": 0.507088582808065,\n        \"min\": -0.9999995639520778,\n        \"max\": 0.9999999999999487,\n        \"num_unique_values\": 4992,\n        \"samples\": [\n          -0.0001951829043137072,\n          -0.08106812279560673\n        ],\n        \"semantic_type\": \"\",\n        \"description\": \"\"\n      }\n    },\n    {\n      \"column\": \"alpha\",\n      \"properties\": {\n        \"dtype\": \"number\",\n        \"std\": 0.22615515923768895,\n        \"min\": 0.017992407647858585,\n        \"max\": 0.6501059668166811,\n        \"num_unique_values\": 10,\n        \"samples\": [\n          0.4114854197551381,\n          0.6501059668166811\n        ],\n        \"semantic_type\": \"\",\n        \"description\": \"\"\n      }\n    },\n    {\n      \"column\": \"beta\",\n      \"properties\": {\n        \"dtype\": \"number\",\n        \"std\": 2.7496016906792824,\n        \"min\": 0.3509018582528927,\n        \"max\": 9.270428779173107,\n        \"num_unique_values\": 10,\n        \"samples\": [\n          0.6916363260977884,\n          7.389184909815828\n        ],\n        \"semantic_type\": \"\",\n        \"description\": \"\"\n      }\n    },\n    {\n      \"column\": \"neg_alpha\",\n      \"properties\": {\n        \"dtype\": \"number\",\n        \"std\": 0.2599160701242649,\n        \"min\": 0.14644396747739644,\n        \"max\": 0.924218162965327,\n        \"num_unique_values\": 10,\n        \"samples\": [\n          0.24913912231064983,\n          0.623166138673568\n        ],\n        \"semantic_type\": \"\",\n        \"description\": \"\"\n      }\n    },\n    {\n      \"column\": \"stickiness\",\n      \"properties\": {\n        \"dtype\": \"number\",\n        \"std\": 0.2652565447161001,\n        \"min\": 0.0465981377382112,\n        \"max\": 0.9316852229849663,\n        \"num_unique_values\": 10,\n        \"samples\": [\n          0.0465981377382112,\n          0.831701625349978\n        ],\n        \"semantic_type\": \"\",\n        \"description\": \"\"\n      }\n    }\n  ]\n}",
              "type": "dataframe",
              "variable_name": "example_df"
            },
            "text/html": [
              "\n",
              "  <div id=\"df-b6abe414-117c-4b83-bfdb-5fc54072f5f8\" class=\"colab-df-container\">\n",
              "    <div>\n",
              "<style scoped>\n",
              "    .dataframe tbody tr th:only-of-type {\n",
              "        vertical-align: middle;\n",
              "    }\n",
              "\n",
              "    .dataframe tbody tr th {\n",
              "        vertical-align: top;\n",
              "    }\n",
              "\n",
              "    .dataframe thead th {\n",
              "        text-align: right;\n",
              "    }\n",
              "</style>\n",
              "<table border=\"1\" class=\"dataframe\">\n",
              "  <thead>\n",
              "    <tr style=\"text-align: right;\">\n",
              "      <th></th>\n",
              "      <th>agentid</th>\n",
              "      <th>actions</th>\n",
              "      <th>correct_actions</th>\n",
              "      <th>rewards</th>\n",
              "      <th>isswitch</th>\n",
              "      <th>iscorrectaction</th>\n",
              "      <th>trials</th>\n",
              "      <th>rpe_history</th>\n",
              "      <th>unchosen_rpe_history</th>\n",
              "      <th>alpha</th>\n",
              "      <th>beta</th>\n",
              "      <th>neg_alpha</th>\n",
              "      <th>stickiness</th>\n",
              "    </tr>\n",
              "  </thead>\n",
              "  <tbody>\n",
              "    <tr>\n",
              "      <th>0</th>\n",
              "      <td>0</td>\n",
              "      <td>0</td>\n",
              "      <td>0</td>\n",
              "      <td>1</td>\n",
              "      <td>0</td>\n",
              "      <td>1</td>\n",
              "      <td>0</td>\n",
              "      <td>0.500000</td>\n",
              "      <td>-0.500000</td>\n",
              "      <td>0.559816</td>\n",
              "      <td>4.52385</td>\n",
              "      <td>0.924218</td>\n",
              "      <td>0.46565</td>\n",
              "    </tr>\n",
              "    <tr>\n",
              "      <th>1</th>\n",
              "      <td>0</td>\n",
              "      <td>0</td>\n",
              "      <td>0</td>\n",
              "      <td>1</td>\n",
              "      <td>0</td>\n",
              "      <td>1</td>\n",
              "      <td>1</td>\n",
              "      <td>0.220092</td>\n",
              "      <td>-0.220092</td>\n",
              "      <td>0.559816</td>\n",
              "      <td>4.52385</td>\n",
              "      <td>0.924218</td>\n",
              "      <td>0.46565</td>\n",
              "    </tr>\n",
              "    <tr>\n",
              "      <th>2</th>\n",
              "      <td>0</td>\n",
              "      <td>0</td>\n",
              "      <td>0</td>\n",
              "      <td>1</td>\n",
              "      <td>0</td>\n",
              "      <td>1</td>\n",
              "      <td>2</td>\n",
              "      <td>0.096881</td>\n",
              "      <td>-0.096881</td>\n",
              "      <td>0.559816</td>\n",
              "      <td>4.52385</td>\n",
              "      <td>0.924218</td>\n",
              "      <td>0.46565</td>\n",
              "    </tr>\n",
              "  </tbody>\n",
              "</table>\n",
              "</div>\n",
              "    <div class=\"colab-df-buttons\">\n",
              "\n",
              "  <div class=\"colab-df-container\">\n",
              "    <button class=\"colab-df-convert\" onclick=\"convertToInteractive('df-b6abe414-117c-4b83-bfdb-5fc54072f5f8')\"\n",
              "            title=\"Convert this dataframe to an interactive table.\"\n",
              "            style=\"display:none;\">\n",
              "\n",
              "  <svg xmlns=\"http://www.w3.org/2000/svg\" height=\"24px\" viewBox=\"0 -960 960 960\">\n",
              "    <path d=\"M120-120v-720h720v720H120Zm60-500h600v-160H180v160Zm220 220h160v-160H400v160Zm0 220h160v-160H400v160ZM180-400h160v-160H180v160Zm440 0h160v-160H620v160ZM180-180h160v-160H180v160Zm440 0h160v-160H620v160Z\"/>\n",
              "  </svg>\n",
              "    </button>\n",
              "\n",
              "  <style>\n",
              "    .colab-df-container {\n",
              "      display:flex;\n",
              "      gap: 12px;\n",
              "    }\n",
              "\n",
              "    .colab-df-convert {\n",
              "      background-color: #E8F0FE;\n",
              "      border: none;\n",
              "      border-radius: 50%;\n",
              "      cursor: pointer;\n",
              "      display: none;\n",
              "      fill: #1967D2;\n",
              "      height: 32px;\n",
              "      padding: 0 0 0 0;\n",
              "      width: 32px;\n",
              "    }\n",
              "\n",
              "    .colab-df-convert:hover {\n",
              "      background-color: #E2EBFA;\n",
              "      box-shadow: 0px 1px 2px rgba(60, 64, 67, 0.3), 0px 1px 3px 1px rgba(60, 64, 67, 0.15);\n",
              "      fill: #174EA6;\n",
              "    }\n",
              "\n",
              "    .colab-df-buttons div {\n",
              "      margin-bottom: 4px;\n",
              "    }\n",
              "\n",
              "    [theme=dark] .colab-df-convert {\n",
              "      background-color: #3B4455;\n",
              "      fill: #D2E3FC;\n",
              "    }\n",
              "\n",
              "    [theme=dark] .colab-df-convert:hover {\n",
              "      background-color: #434B5C;\n",
              "      box-shadow: 0px 1px 3px 1px rgba(0, 0, 0, 0.15);\n",
              "      filter: drop-shadow(0px 1px 2px rgba(0, 0, 0, 0.3));\n",
              "      fill: #FFFFFF;\n",
              "    }\n",
              "  </style>\n",
              "\n",
              "    <script>\n",
              "      const buttonEl =\n",
              "        document.querySelector('#df-b6abe414-117c-4b83-bfdb-5fc54072f5f8 button.colab-df-convert');\n",
              "      buttonEl.style.display =\n",
              "        google.colab.kernel.accessAllowed ? 'block' : 'none';\n",
              "\n",
              "      async function convertToInteractive(key) {\n",
              "        const element = document.querySelector('#df-b6abe414-117c-4b83-bfdb-5fc54072f5f8');\n",
              "        const dataTable =\n",
              "          await google.colab.kernel.invokeFunction('convertToInteractive',\n",
              "                                                    [key], {});\n",
              "        if (!dataTable) return;\n",
              "\n",
              "        const docLinkHtml = 'Like what you see? Visit the ' +\n",
              "          '<a target=\"_blank\" href=https://colab.research.google.com/notebooks/data_table.ipynb>data table notebook</a>'\n",
              "          + ' to learn more about interactive tables.';\n",
              "        element.innerHTML = '';\n",
              "        dataTable['output_type'] = 'display_data';\n",
              "        await google.colab.output.renderOutput(dataTable, element);\n",
              "        const docLink = document.createElement('div');\n",
              "        docLink.innerHTML = docLinkHtml;\n",
              "        element.appendChild(docLink);\n",
              "      }\n",
              "    </script>\n",
              "  </div>\n",
              "\n",
              "\n",
              "<div id=\"df-084f9d90-b3d3-48ed-b457-d1243134bc7b\">\n",
              "  <button class=\"colab-df-quickchart\" onclick=\"quickchart('df-084f9d90-b3d3-48ed-b457-d1243134bc7b')\"\n",
              "            title=\"Suggest charts\"\n",
              "            style=\"display:none;\">\n",
              "\n",
              "<svg xmlns=\"http://www.w3.org/2000/svg\" height=\"24px\"viewBox=\"0 0 24 24\"\n",
              "     width=\"24px\">\n",
              "    <g>\n",
              "        <path d=\"M19 3H5c-1.1 0-2 .9-2 2v14c0 1.1.9 2 2 2h14c1.1 0 2-.9 2-2V5c0-1.1-.9-2-2-2zM9 17H7v-7h2v7zm4 0h-2V7h2v10zm4 0h-2v-4h2v4z\"/>\n",
              "    </g>\n",
              "</svg>\n",
              "  </button>\n",
              "\n",
              "<style>\n",
              "  .colab-df-quickchart {\n",
              "      --bg-color: #E8F0FE;\n",
              "      --fill-color: #1967D2;\n",
              "      --hover-bg-color: #E2EBFA;\n",
              "      --hover-fill-color: #174EA6;\n",
              "      --disabled-fill-color: #AAA;\n",
              "      --disabled-bg-color: #DDD;\n",
              "  }\n",
              "\n",
              "  [theme=dark] .colab-df-quickchart {\n",
              "      --bg-color: #3B4455;\n",
              "      --fill-color: #D2E3FC;\n",
              "      --hover-bg-color: #434B5C;\n",
              "      --hover-fill-color: #FFFFFF;\n",
              "      --disabled-bg-color: #3B4455;\n",
              "      --disabled-fill-color: #666;\n",
              "  }\n",
              "\n",
              "  .colab-df-quickchart {\n",
              "    background-color: var(--bg-color);\n",
              "    border: none;\n",
              "    border-radius: 50%;\n",
              "    cursor: pointer;\n",
              "    display: none;\n",
              "    fill: var(--fill-color);\n",
              "    height: 32px;\n",
              "    padding: 0;\n",
              "    width: 32px;\n",
              "  }\n",
              "\n",
              "  .colab-df-quickchart:hover {\n",
              "    background-color: var(--hover-bg-color);\n",
              "    box-shadow: 0 1px 2px rgba(60, 64, 67, 0.3), 0 1px 3px 1px rgba(60, 64, 67, 0.15);\n",
              "    fill: var(--button-hover-fill-color);\n",
              "  }\n",
              "\n",
              "  .colab-df-quickchart-complete:disabled,\n",
              "  .colab-df-quickchart-complete:disabled:hover {\n",
              "    background-color: var(--disabled-bg-color);\n",
              "    fill: var(--disabled-fill-color);\n",
              "    box-shadow: none;\n",
              "  }\n",
              "\n",
              "  .colab-df-spinner {\n",
              "    border: 2px solid var(--fill-color);\n",
              "    border-color: transparent;\n",
              "    border-bottom-color: var(--fill-color);\n",
              "    animation:\n",
              "      spin 1s steps(1) infinite;\n",
              "  }\n",
              "\n",
              "  @keyframes spin {\n",
              "    0% {\n",
              "      border-color: transparent;\n",
              "      border-bottom-color: var(--fill-color);\n",
              "      border-left-color: var(--fill-color);\n",
              "    }\n",
              "    20% {\n",
              "      border-color: transparent;\n",
              "      border-left-color: var(--fill-color);\n",
              "      border-top-color: var(--fill-color);\n",
              "    }\n",
              "    30% {\n",
              "      border-color: transparent;\n",
              "      border-left-color: var(--fill-color);\n",
              "      border-top-color: var(--fill-color);\n",
              "      border-right-color: var(--fill-color);\n",
              "    }\n",
              "    40% {\n",
              "      border-color: transparent;\n",
              "      border-right-color: var(--fill-color);\n",
              "      border-top-color: var(--fill-color);\n",
              "    }\n",
              "    60% {\n",
              "      border-color: transparent;\n",
              "      border-right-color: var(--fill-color);\n",
              "    }\n",
              "    80% {\n",
              "      border-color: transparent;\n",
              "      border-right-color: var(--fill-color);\n",
              "      border-bottom-color: var(--fill-color);\n",
              "    }\n",
              "    90% {\n",
              "      border-color: transparent;\n",
              "      border-bottom-color: var(--fill-color);\n",
              "    }\n",
              "  }\n",
              "</style>\n",
              "\n",
              "  <script>\n",
              "    async function quickchart(key) {\n",
              "      const quickchartButtonEl =\n",
              "        document.querySelector('#' + key + ' button');\n",
              "      quickchartButtonEl.disabled = true;  // To prevent multiple clicks.\n",
              "      quickchartButtonEl.classList.add('colab-df-spinner');\n",
              "      try {\n",
              "        const charts = await google.colab.kernel.invokeFunction(\n",
              "            'suggestCharts', [key], {});\n",
              "      } catch (error) {\n",
              "        console.error('Error during call to suggestCharts:', error);\n",
              "      }\n",
              "      quickchartButtonEl.classList.remove('colab-df-spinner');\n",
              "      quickchartButtonEl.classList.add('colab-df-quickchart-complete');\n",
              "    }\n",
              "    (() => {\n",
              "      let quickchartButtonEl =\n",
              "        document.querySelector('#df-084f9d90-b3d3-48ed-b457-d1243134bc7b button');\n",
              "      quickchartButtonEl.style.display =\n",
              "        google.colab.kernel.accessAllowed ? 'block' : 'none';\n",
              "    })();\n",
              "  </script>\n",
              "</div>\n",
              "\n",
              "    </div>\n",
              "  </div>\n"
            ],
            "text/plain": [
              "   agentid  actions  correct_actions  rewards  isswitch  iscorrectaction  \\\n",
              "0        0        0                0        1         0                1   \n",
              "1        0        0                0        1         0                1   \n",
              "2        0        0                0        1         0                1   \n",
              "\n",
              "   trials  rpe_history  unchosen_rpe_history     alpha     beta  neg_alpha  \\\n",
              "0       0     0.500000             -0.500000  0.559816  4.52385   0.924218   \n",
              "1       1     0.220092             -0.220092  0.559816  4.52385   0.924218   \n",
              "2       2     0.096881             -0.096881  0.559816  4.52385   0.924218   \n",
              "\n",
              "   stickiness  \n",
              "0     0.46565  \n",
              "1     0.46565  \n",
              "2     0.46565  "
            ]
          },
          "execution_count": 5,
          "metadata": {},
          "output_type": "execute_result"
        }
      ],
      "source": [
        "import tqdm\n",
        "import random\n",
        "\n",
        "from simulation.prl.simulate_4prl import simulate_4prl\n",
        "\n",
        "model_name = CognitiveModel.PRL4\n",
        "num_agents = 10\n",
        "num_trials = 500\n",
        "\n",
        "data_list = []\n",
        "for a in tqdm.tqdm(range(num_agents)):\n",
        "    rand_beta = random.uniform(1e-4, 10)\n",
        "    rand_alpha = random.uniform(1e-4, 1)\n",
        "    rand_neg_alpha = random.uniform(1e-4, 1)\n",
        "    rand_stickiness = random.uniform(0, 1)\n",
        "\n",
        "    parameters = [rand_beta, rand_alpha, rand_neg_alpha, rand_stickiness]\n",
        "    example = simulate_4prl(parameters, num_trials, 0.8, 15, 2, a)\n",
        "    data_list.append(example)\n",
        "\n",
        "example_df = pd.concat(data_list)\n",
        "example_df.head(3)"
      ]
    },
    {
      "cell_type": "code",
      "execution_count": 10,
      "metadata": {
        "colab": {
          "base_uri": "https://localhost:8080/"
        },
        "id": "RNAM_5MJM4dr",
        "outputId": "331e2509-0cc0-40e8-f8be-eb4c03917ade"
      },
      "outputs": [
        {
          "name": "stdout",
          "output_type": "stream",
          "text": [
            "(10, 500, 4)\n",
            "(10, 500)\n",
            "(9, 500, 4) (1, 500, 4) (9, 500) (1, 500)\n"
          ]
        }
      ],
      "source": [
        "# feature_list is rewards and actions as they are observable input variables.\n",
        "# The shape is (10, 500, 4) = (num_agent, num_trial, feature_dim)\n",
        "print(get_onehot_features(example_df, ['actions', 'rewards']).shape)\n",
        "# target_parameter_name is rpe_history as we want to recover it\n",
        "# The shape is (10, 500) = (num_agent, num_trial)\n",
        "print(get_latent_labels(example_df, 'rpe_history').shape)"
      ]
    },
    {
      "cell_type": "markdown",
      "metadata": {
        "id": "pWl-bWItNCwz"
      },
      "source": [
        "## Read your own data"
      ]
    },
    {
      "cell_type": "code",
      "execution_count": null,
      "metadata": {
        "id": "oYQQfzQ0KCzu"
      },
      "outputs": [],
      "source": [
        "data = pd.read_csv(training_data_file_path)\n",
        "# extract input features\n",
        "features = get_onehot_features(data, feature_list)\n",
        "# extract labels for supervised learning\n",
        "labels = get_latent_labels(data, target_parameter_name)\n",
        "\n",
        "X_train, X_test, y_train, y_test = train_test_split(\n",
        "  features.numpy(),\n",
        "  labels,\n",
        "  test_size=0.1,\n",
        "  random_state=33,\n",
        ")\n",
        "\n",
        "print(\n",
        "    X_train.shape,\n",
        "    X_test.shape,\n",
        "    y_train.shape,\n",
        "    y_test.shape,\n",
        ")"
      ]
    },
    {
      "cell_type": "markdown",
      "metadata": {
        "id": "rWFM3HmJK5d3"
      },
      "source": [
        "# Training Models"
      ]
    },
    {
      "cell_type": "code",
      "execution_count": 11,
      "metadata": {
        "colab": {
          "base_uri": "https://localhost:8080/"
        },
        "id": "s05770LGK44n",
        "outputId": "4c012f90-81b7-455c-a9ab-73748d44fc4e"
      },
      "outputs": [
        {
          "name": "stdout",
          "output_type": "stream",
          "text": [
            "Random seed set as 33\n",
            "A10_500t_B128_U193_D0.07_D0.053_D0.014\n"
          ]
        }
      ],
      "source": [
        "set_seed(33)\n",
        "\n",
        "## CHANGE ME ##\n",
        "batch_size = 128\n",
        "units = 193\n",
        "dropout = 0.07\n",
        "dropout1 = 0.053\n",
        "dropout2 =  0.014\n",
        "learning_rate = 3e-4\n",
        "###############\n",
        "\n",
        "n_agents, n_trial = features.shape[0], features.shape[1]\n",
        "identifier = f'A{n_agents}_{n_trial}t_B{batch_size}_U{units}_D{dropout}_D{dropout1}_D{dropout2}'\n",
        "print(identifier)\n",
        "\n",
        "lasenet = create_model(\n",
        "    feature_dim=X_train.shape[-1],\n",
        "    continuous_output_dim=1,\n",
        "    discrete_output_dim=0,\n",
        "    units=units,\n",
        "    dropout=dropout,\n",
        "    dropout1=dropout1,\n",
        "    dropout2=dropout2,\n",
        ")\n",
        "\n",
        "optimizer = Adam(learning_rate=learning_rate)\n",
        "lasenet.compile(\n",
        "    loss={\n",
        "        \"continuous_latent\": \"mse\",\n",
        "    },\n",
        "    loss_weights={\"continuous_latent\": 1},\n",
        "    optimizer=optimizer,\n",
        ")"
      ]
    },
    {
      "cell_type": "markdown",
      "metadata": {
        "id": "DqmWC-hoLE9A"
      },
      "source": [
        "## Training"
      ]
    },
    {
      "cell_type": "code",
      "execution_count": null,
      "metadata": {
        "id": "93BSD2rDLFms"
      },
      "outputs": [],
      "source": [
        "callbacks = [EarlyStopping(monitor='val_loss', patience=35, restore_best_weights=True)]\n",
        "start = time.time()\n",
        "\n",
        "history = lasenet.fit(\n",
        "  X_train,\n",
        "  y=y_train,\n",
        "  batch_size=batch_size,\n",
        "  epochs=600, # we set to 600 in our work\n",
        "  verbose=2,\n",
        "  callbacks=callbacks,\n",
        "  validation_data=(X_test, y_test),\n",
        ")\n",
        "\n",
        "end = time.time()\n",
        "print(end-start)"
      ]
    },
    {
      "cell_type": "code",
      "execution_count": null,
      "metadata": {
        "id": "roPd6rdVLHWq"
      },
      "outputs": [],
      "source": [
        "result = pd.DataFrame(history.history)\n",
        "ax = sns.lineplot(result)\n",
        "ax.set_xlabel('epochs')\n",
        "ax.set_ylabel('loss')\n",
        "\n",
        "# Save the training results\n",
        "plt.savefig(f'{RESULT_DIR}/{identifier}.png')\n",
        "lasenet.save(f'{RESULT_DIR}/{identifier}_model')"
      ]
    },
    {
      "cell_type": "markdown",
      "metadata": {
        "id": "L4deek9XLNMX"
      },
      "source": [
        "# Hyperparameter turning"
      ]
    },
    {
      "cell_type": "code",
      "execution_count": 14,
      "metadata": {
        "id": "uOn56C6NLMlj"
      },
      "outputs": [],
      "source": [
        "def get_model(parms):\n",
        "    lasenet = create_model(\n",
        "        parms[\"feature_dim\"],\n",
        "        parms[\"discrete_output_dim\"],\n",
        "        parms[\"continuous_output_dim\"],\n",
        "        parms[\"units\"],\n",
        "        parms[\"dropout\"],\n",
        "        parms[\"dropout1\"],\n",
        "        parms[\"dropout2\"],\n",
        "    )\n",
        "    optimizer = Adam(learning_rate=parms[\"learning_rate\"])\n",
        "    lasenet.compile(\n",
        "        loss={\n",
        "            \"continuous_latent\": \"mse\",\n",
        "        },\n",
        "        loss_weights={\"continuous_latent\": 1},\n",
        "        optimizer=optimizer,\n",
        "    )\n",
        "    return lasenet"
      ]
    },
    {
      "cell_type": "markdown",
      "metadata": {
        "id": "ET6W2RfrhYBk"
      },
      "source": [
        "## Model Evaluation"
      ]
    },
    {
      "cell_type": "code",
      "execution_count": null,
      "metadata": {
        "id": "CVGtVW3iWE2R"
      },
      "outputs": [],
      "source": [
        "# load previous trained models\n",
        "# best_model = tf.keras.models.load_model(f'{RESULT_DIR}/CHANGE_ME')"
      ]
    },
    {
      "cell_type": "code",
      "execution_count": null,
      "metadata": {
        "id": "AMD3H2sOpPuQ"
      },
      "outputs": [],
      "source": [
        "test_data = pd.read_csv(test_data_file_path)\n",
        "test_features = get_onehot_features(\n",
        "    test_data, feature_list\n",
        ")\n",
        "predicted = lasenet.predict(test_features)\n",
        "np.array(predicted).shape"
      ]
    },
    {
      "cell_type": "code",
      "execution_count": 22,
      "metadata": {
        "colab": {
          "base_uri": "https://localhost:8080/",
          "height": 279
        },
        "id": "yOSWu_CTwhr0",
        "outputId": "5c2f1f2c-41ff-40f7-9ae9-093f29d1811e"
      },
      "outputs": [
        {
          "data": {
            "image/png": "[encoded data removed]",
            "text/plain": [
              "<Figure size 600x200 with 1 Axes>"
            ]
          },
          "metadata": {},
          "output_type": "display_data"
        }
      ],
      "source": [
        "num_agents = test_data.agentid.nunique()\n",
        "num_trials = test_data.trials.nunique()\n",
        "lasenet_pred = predicted.reshape((num_agents, num_trials))\n",
        "true_label = test_data[target_parameter_name].to_numpy().reshape((num_agents, num_trials))\n",
        "\n",
        "nrows, n_cols = 1, 1\n",
        "fig, ax = plt.subplots(nrows=nrows, ncols=n_cols, figsize=(n_cols*6, nrows*2), sharey=True, sharex=True)\n",
        "\n",
        "max_trial = 50\n",
        "agent_idx = 5\n",
        "result = {\n",
        "    'LaseNet': lasenet_pred[agent_idx][:max_trial],\n",
        "    'Groud Truth': true_label[agent_idx][:max_trial],\n",
        "}\n",
        "\n",
        "plt.rcParams.update({'font.size': 14})\n",
        "plot_ = sns.lineplot(result, ax=ax, legend=True)\n",
        "sns.move_legend(\n",
        "  ax, \"lower center\",\n",
        "  bbox_to_anchor=(0.5, -0.64), ncol=len(result), title=None, frameon=False,\n",
        ")\n",
        "ax.set_xlabel('Trial #')\n",
        "\n",
        "for axis in ['top','bottom','left','right']:\n",
        "  ax.spines[axis].set_linewidth(3)\n",
        "\n",
        "# increase tick width\n",
        "ax.tick_params(width=4)\n",
        "sns.despine()"
      ]
    },
    {
      "cell_type": "markdown",
      "metadata": {
        "id": "RPrEGV0n7hk8"
      },
      "source": [
        "## Hyperparameter Tuning"
      ]
    },
    {
      "cell_type": "code",
      "execution_count": null,
      "metadata": {
        "id": "Dh_fOhje7jVN"
      },
      "outputs": [],
      "source": [
        "# For grid search\n",
        "!pip install --upgrade keras-hypetune\n",
        "!pip install -q -U keras-tuner"
      ]
    },
    {
      "cell_type": "code",
      "execution_count": null,
      "metadata": {
        "id": "y6SmxUkHLjqp"
      },
      "outputs": [],
      "source": [
        "def get_model(parms):\n",
        "    lasenet = create_model(\n",
        "        parms[\"feature_dim\"],\n",
        "        parms[\"discrete_output_dim\"],\n",
        "        parms[\"continuous_output_dim\"],\n",
        "        parms[\"units\"],\n",
        "        parms[\"dropout\"],\n",
        "        parms[\"dropout1\"],\n",
        "        parms[\"dropout2\"],\n",
        "    )\n",
        "    optimizer = Adam(learning_rate=parms[\"learning_rate\"])\n",
        "    lasenet.compile(\n",
        "        loss={\n",
        "            \"continuous_latent\": \"mse\",\n",
        "        },\n",
        "        loss_weights={\"continuous_latent\": 1},\n",
        "        optimizer=optimizer,\n",
        "    )\n",
        "    return lasenet"
      ]
    },
    {
      "cell_type": "code",
      "execution_count": null,
      "metadata": {
        "id": "L5rfIE2C7kjr"
      },
      "outputs": [],
      "source": [
        "from kerashypetune import KerasBayesianSearch\n",
        "from hyperopt import hp, Trials\n",
        "\n",
        "param_grid = {\n",
        "  'feature_dim': X_train.shape[-1],\n",
        "  'continuous_output_dim': 1,\n",
        "  'discrete_output_dim': 0,\n",
        "  'units': hp.choice('units', [96, 128, 256]),\n",
        "  'learning_rate': 3e-4,\n",
        "  'dropout': hp.uniform('dropout', .05, .25),\n",
        "  'dropout1': hp.uniform('dropout1', .01, .1),\n",
        "  'dropout2': hp.uniform('dropout2', .01, .05),\n",
        "  'epochs': 25,\n",
        "  'batch_size': 128,\n",
        "}\n",
        "\n",
        "n_iter = 1 # We set it to 10 in our work\n",
        "kbs = KerasBayesianSearch(get_model, param_grid, monitor='val_loss', greater_is_better=False, n_iter=n_iter, sampling_seed=33)\n",
        "callbacks = [EarlyStopping(monitor='val_loss', patience=25)]\n",
        "kbs.search(\n",
        "    X_train,\n",
        "    y_train,\n",
        "    trials=Trials(),\n",
        "    validation_split=0.1,\n",
        "    callbacks=callbacks)\n",
        "\n",
        "print(kbs.best_params)\n",
        "print(kbs.scores)"
      ]
    }
  ],
  "metadata": {
    "colab": {
      "provenance": [],
      "toc_visible": true
    },
    "kernelspec": {
      "display_name": "Python 3",
      "name": "python3"
    },
    "language_info": {
      "name": "python"
    }
  },
  "nbformat": 4,
  "nbformat_minor": 0
}
